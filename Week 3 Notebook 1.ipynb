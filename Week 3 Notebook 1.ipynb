{
  "nbformat": 4,
  "nbformat_minor": 0,
  "metadata": {
    "colab": {
      "name": "Untitled0.ipynb",
      "provenance": []
    },
    "kernelspec": {
      "name": "python3",
      "display_name": "Python 3"
    }
  },
  "cells": [
    {
      "cell_type": "markdown",
      "metadata": {
        "id": "Lv7_4ZYCdum6"
      },
      "source": [
        "<a href=\"https://cognitiveclass.ai\"><img src = \"https://ibm.box.com/shared/static/9gegpsmnsoo25ikkbl4qzlvlyjbgxs5x.png\" width = 400> </a>\r\n",
        "\r\n",
        "<h1 align=center><font size = 5>Segmenting and Clustering Neighborhoods in Toronto</font></h1>"
      ]
    },
    {
      "cell_type": "markdown",
      "metadata": {
        "id": "cO29wBw_d8e2"
      },
      "source": [
        "#### First we import all the libraries"
      ]
    },
    {
      "cell_type": "code",
      "metadata": {
        "id": "zaM-um4aXhaP"
      },
      "source": [
        "import pandas as pd\r\n",
        "import requests\r\n",
        "from bs4 import BeautifulSoup\r\n",
        "\r\n"
      ],
      "execution_count": 3,
      "outputs": []
    },
    {
      "cell_type": "markdown",
      "metadata": {
        "id": "WzPdKKrneAWH"
      },
      "source": [
        "#### Load data from wikipedia\r\n",
        "Then we load all the data from the wikipiedia. We use request and beautiful soup"
      ]
    },
    {
      "cell_type": "code",
      "metadata": {
        "colab": {
          "base_uri": "https://localhost:8080/"
        },
        "id": "mF5UA3dKX3YN",
        "outputId": "78f0a192-728b-4f4c-8498-849a4def704d"
      },
      "source": [
        "wikiurl=\"https://en.wikipedia.org/wiki/List_of_postal_codes_of_Canada:_M\"\r\n",
        "table_class=\"wikitable sortable jquery-tablesorter\"\r\n",
        "response=requests.get(wikiurl)\r\n",
        "\r\n",
        "soup = BeautifulSoup(response.text, 'html.parser')\r\n",
        "indiatable=soup.find('table',{'class':\"wikitable\"})\r\n"
      ],
      "execution_count": 9,
      "outputs": [
        {
          "output_type": "stream",
          "text": [
            "200\n"
          ],
          "name": "stdout"
        }
      ]
    },
    {
      "cell_type": "markdown",
      "metadata": {
        "id": "Msm8MwXaeQzC"
      },
      "source": [
        "#### Convert data to dataframe"
      ]
    },
    {
      "cell_type": "code",
      "metadata": {
        "colab": {
          "base_uri": "https://localhost:8080/",
          "height": 204
        },
        "id": "7cz1TlnOYIay",
        "outputId": "378929bb-b683-4d88-ac83-82078bca9f3c"
      },
      "source": [
        "df=pd.read_html(str(indiatable))\r\n",
        "df=pd.DataFrame(df[0])\r\n",
        "display(df.head())"
      ],
      "execution_count": 13,
      "outputs": [
        {
          "output_type": "display_data",
          "data": {
            "text/html": [
              "<div>\n",
              "<style scoped>\n",
              "    .dataframe tbody tr th:only-of-type {\n",
              "        vertical-align: middle;\n",
              "    }\n",
              "\n",
              "    .dataframe tbody tr th {\n",
              "        vertical-align: top;\n",
              "    }\n",
              "\n",
              "    .dataframe thead th {\n",
              "        text-align: right;\n",
              "    }\n",
              "</style>\n",
              "<table border=\"1\" class=\"dataframe\">\n",
              "  <thead>\n",
              "    <tr style=\"text-align: right;\">\n",
              "      <th></th>\n",
              "      <th>Postal Code</th>\n",
              "      <th>Borough</th>\n",
              "      <th>Neighbourhood</th>\n",
              "    </tr>\n",
              "  </thead>\n",
              "  <tbody>\n",
              "    <tr>\n",
              "      <th>0</th>\n",
              "      <td>M1A</td>\n",
              "      <td>Not assigned</td>\n",
              "      <td>Not assigned</td>\n",
              "    </tr>\n",
              "    <tr>\n",
              "      <th>1</th>\n",
              "      <td>M2A</td>\n",
              "      <td>Not assigned</td>\n",
              "      <td>Not assigned</td>\n",
              "    </tr>\n",
              "    <tr>\n",
              "      <th>2</th>\n",
              "      <td>M3A</td>\n",
              "      <td>North York</td>\n",
              "      <td>Parkwoods</td>\n",
              "    </tr>\n",
              "    <tr>\n",
              "      <th>3</th>\n",
              "      <td>M4A</td>\n",
              "      <td>North York</td>\n",
              "      <td>Victoria Village</td>\n",
              "    </tr>\n",
              "    <tr>\n",
              "      <th>4</th>\n",
              "      <td>M5A</td>\n",
              "      <td>Downtown Toronto</td>\n",
              "      <td>Regent Park, Harbourfront</td>\n",
              "    </tr>\n",
              "  </tbody>\n",
              "</table>\n",
              "</div>"
            ],
            "text/plain": [
              "  Postal Code           Borough              Neighbourhood\n",
              "0         M1A      Not assigned               Not assigned\n",
              "1         M2A      Not assigned               Not assigned\n",
              "2         M3A        North York                  Parkwoods\n",
              "3         M4A        North York           Victoria Village\n",
              "4         M5A  Downtown Toronto  Regent Park, Harbourfront"
            ]
          },
          "metadata": {
            "tags": []
          }
        }
      ]
    },
    {
      "cell_type": "markdown",
      "metadata": {
        "id": "EVaIr8nBeV9m"
      },
      "source": [
        "### Drop the cells where Borough is not assigned, and if Borough is assigned but Neighbourhood no, neighbourhood will get the value from Borough"
      ]
    },
    {
      "cell_type": "code",
      "metadata": {
        "colab": {
          "base_uri": "https://localhost:8080/",
          "height": 419
        },
        "id": "wsJ-EP1Rdfoi",
        "outputId": "c5875f44-ce1b-4d12-9716-ec1781b971ae"
      },
      "source": [
        "index = df[ (df['Borough'] == 'Not assigned')  ].index\r\n",
        "df.drop(index,inplace=True)\r\n",
        "df=df.reset_index(drop=True)\r\n",
        "for i,row in df.iterrows():\r\n",
        "    if(row['Neighbourhood']=='Not assigned'):\r\n",
        "        row['Neighbourhood']=row['Borough']\r\n",
        "\r\n",
        "display(df)"
      ],
      "execution_count": 14,
      "outputs": [
        {
          "output_type": "display_data",
          "data": {
            "text/html": [
              "<div>\n",
              "<style scoped>\n",
              "    .dataframe tbody tr th:only-of-type {\n",
              "        vertical-align: middle;\n",
              "    }\n",
              "\n",
              "    .dataframe tbody tr th {\n",
              "        vertical-align: top;\n",
              "    }\n",
              "\n",
              "    .dataframe thead th {\n",
              "        text-align: right;\n",
              "    }\n",
              "</style>\n",
              "<table border=\"1\" class=\"dataframe\">\n",
              "  <thead>\n",
              "    <tr style=\"text-align: right;\">\n",
              "      <th></th>\n",
              "      <th>Postal Code</th>\n",
              "      <th>Borough</th>\n",
              "      <th>Neighbourhood</th>\n",
              "    </tr>\n",
              "  </thead>\n",
              "  <tbody>\n",
              "    <tr>\n",
              "      <th>0</th>\n",
              "      <td>M3A</td>\n",
              "      <td>North York</td>\n",
              "      <td>Parkwoods</td>\n",
              "    </tr>\n",
              "    <tr>\n",
              "      <th>1</th>\n",
              "      <td>M4A</td>\n",
              "      <td>North York</td>\n",
              "      <td>Victoria Village</td>\n",
              "    </tr>\n",
              "    <tr>\n",
              "      <th>2</th>\n",
              "      <td>M5A</td>\n",
              "      <td>Downtown Toronto</td>\n",
              "      <td>Regent Park, Harbourfront</td>\n",
              "    </tr>\n",
              "    <tr>\n",
              "      <th>3</th>\n",
              "      <td>M6A</td>\n",
              "      <td>North York</td>\n",
              "      <td>Lawrence Manor, Lawrence Heights</td>\n",
              "    </tr>\n",
              "    <tr>\n",
              "      <th>4</th>\n",
              "      <td>M7A</td>\n",
              "      <td>Downtown Toronto</td>\n",
              "      <td>Queen's Park, Ontario Provincial Government</td>\n",
              "    </tr>\n",
              "    <tr>\n",
              "      <th>...</th>\n",
              "      <td>...</td>\n",
              "      <td>...</td>\n",
              "      <td>...</td>\n",
              "    </tr>\n",
              "    <tr>\n",
              "      <th>98</th>\n",
              "      <td>M8X</td>\n",
              "      <td>Etobicoke</td>\n",
              "      <td>The Kingsway, Montgomery Road, Old Mill North</td>\n",
              "    </tr>\n",
              "    <tr>\n",
              "      <th>99</th>\n",
              "      <td>M4Y</td>\n",
              "      <td>Downtown Toronto</td>\n",
              "      <td>Church and Wellesley</td>\n",
              "    </tr>\n",
              "    <tr>\n",
              "      <th>100</th>\n",
              "      <td>M7Y</td>\n",
              "      <td>East Toronto</td>\n",
              "      <td>Business reply mail Processing Centre, South C...</td>\n",
              "    </tr>\n",
              "    <tr>\n",
              "      <th>101</th>\n",
              "      <td>M8Y</td>\n",
              "      <td>Etobicoke</td>\n",
              "      <td>Old Mill South, King's Mill Park, Sunnylea, Hu...</td>\n",
              "    </tr>\n",
              "    <tr>\n",
              "      <th>102</th>\n",
              "      <td>M8Z</td>\n",
              "      <td>Etobicoke</td>\n",
              "      <td>Mimico NW, The Queensway West, South of Bloor,...</td>\n",
              "    </tr>\n",
              "  </tbody>\n",
              "</table>\n",
              "<p>103 rows × 3 columns</p>\n",
              "</div>"
            ],
            "text/plain": [
              "    Postal Code  ...                                      Neighbourhood\n",
              "0           M3A  ...                                          Parkwoods\n",
              "1           M4A  ...                                   Victoria Village\n",
              "2           M5A  ...                          Regent Park, Harbourfront\n",
              "3           M6A  ...                   Lawrence Manor, Lawrence Heights\n",
              "4           M7A  ...        Queen's Park, Ontario Provincial Government\n",
              "..          ...  ...                                                ...\n",
              "98          M8X  ...      The Kingsway, Montgomery Road, Old Mill North\n",
              "99          M4Y  ...                               Church and Wellesley\n",
              "100         M7Y  ...  Business reply mail Processing Centre, South C...\n",
              "101         M8Y  ...  Old Mill South, King's Mill Park, Sunnylea, Hu...\n",
              "102         M8Z  ...  Mimico NW, The Queensway West, South of Bloor,...\n",
              "\n",
              "[103 rows x 3 columns]"
            ]
          },
          "metadata": {
            "tags": []
          }
        }
      ]
    },
    {
      "cell_type": "markdown",
      "metadata": {
        "id": "ZYi9wi8relD2"
      },
      "source": [
        "### Call function shape to check the results"
      ]
    },
    {
      "cell_type": "code",
      "metadata": {
        "colab": {
          "base_uri": "https://localhost:8080/"
        },
        "id": "pAmInYYudjqW",
        "outputId": "31062de8-bc64-43f9-eaf5-96b915558b6d"
      },
      "source": [
        "df.shape"
      ],
      "execution_count": 16,
      "outputs": [
        {
          "output_type": "execute_result",
          "data": {
            "text/plain": [
              "(103, 3)"
            ]
          },
          "metadata": {
            "tags": []
          },
          "execution_count": 16
        }
      ]
    }
  ]
}