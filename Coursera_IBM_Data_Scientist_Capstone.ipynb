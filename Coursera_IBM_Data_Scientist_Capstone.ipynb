{
  "nbformat": 4,
  "nbformat_minor": 0,
  "metadata": {
    "colab": {
      "name": "Coursera_IBM_Data_Scientist_Capstone.ipynb",
      "provenance": []
    },
    "kernelspec": {
      "name": "python3",
      "display_name": "Python 3"
    }
  },
  "cells": [
    {
      "cell_type": "markdown",
      "metadata": {
        "id": "Xd6GeFyE5rLP"
      },
      "source": [
        "# Coursera IBM data scientist Capstone project\r\n",
        "\r\n",
        "### This notebook will be used for the final project\r\n",
        "\r\n",
        "Hope you enjoy!"
      ]
    },
    {
      "cell_type": "code",
      "metadata": {
        "id": "zSq0WeLd5itk"
      },
      "source": [
        "import pandas as pd\r\n",
        "import numpy as np"
      ],
      "execution_count": 3,
      "outputs": []
    },
    {
      "cell_type": "code",
      "metadata": {
        "colab": {
          "base_uri": "https://localhost:8080/"
        },
        "id": "IC2yczmK5mYb",
        "outputId": "700e3fc0-e24d-4036-d8b5-73ccb60678a3"
      },
      "source": [
        "print(\"Hello Capstone Project Course!\")"
      ],
      "execution_count": 4,
      "outputs": [
        {
          "output_type": "stream",
          "text": [
            "Hello Capstone Project Course!\n"
          ],
          "name": "stdout"
        }
      ]
    }
  ]
}